{
 "cells": [
  {
   "metadata": {
    "ExecuteTime": {
     "end_time": "2025-10-11T17:18:44.054537Z",
     "start_time": "2025-10-11T17:18:42.973877Z"
    }
   },
   "cell_type": "code",
   "source": [
    "import pandas as pd \n",
    "from be.data_download import nan_rows, check_isbn, clean_isbn, delete_missing_books"
   ],
   "id": "c5ac6e3fdccde7b3",
   "outputs": [
    {
     "name": "stderr",
     "output_type": "stream",
     "text": [
      "C:\\Users\\Pavel\\Desktop\\Projekt-datasentics\\.venv\\Lib\\site-packages\\tqdm\\auto.py:21: TqdmWarning: IProgress not found. Please update jupyter and ipywidgets. See https://ipywidgets.readthedocs.io/en/stable/user_install.html\n",
      "  from .autonotebook import tqdm as notebook_tqdm\n"
     ]
    }
   ],
   "execution_count": 1
  },
  {
   "metadata": {
    "ExecuteTime": {
     "end_time": "2025-10-10T18:15:07.791067Z",
     "start_time": "2025-10-10T18:15:05.592911Z"
    }
   },
   "cell_type": "code",
   "source": [
    "df_books = pd.read_csv(\"Downloads/books.csv\")\n",
    "df_ratings = pd.read_csv(\"Downloads/ratings.csv\")"
   ],
   "id": "dbc140cc9ccb7d65",
   "outputs": [
    {
     "name": "stderr",
     "output_type": "stream",
     "text": [
      "C:\\Users\\Pavel\\AppData\\Local\\Temp\\ipykernel_16548\\1651021219.py:1: DtypeWarning: Columns (3) have mixed types. Specify dtype option on import or set low_memory=False.\n",
      "  df_books = pd.read_csv(\"Downloads/books.csv\")\n"
     ]
    }
   ],
   "execution_count": 7
  },
  {
   "metadata": {},
   "cell_type": "markdown",
   "source": "# ISBN check",
   "id": "d90028e0e0a17d6f"
  },
  {
   "metadata": {
    "ExecuteTime": {
     "end_time": "2025-10-10T18:14:38.001082Z",
     "start_time": "2025-10-10T18:14:37.324889Z"
    }
   },
   "cell_type": "code",
   "source": [
    "isbn_books = check_isbn(df_books)\n",
    "isbn_ratings = check_isbn(df_ratings)"
   ],
   "id": "8e6123d8400edbc",
   "outputs": [],
   "execution_count": 3
  },
  {
   "metadata": {
    "ExecuteTime": {
     "end_time": "2025-10-10T18:15:16.244782Z",
     "start_time": "2025-10-10T18:15:09.319741Z"
    }
   },
   "cell_type": "code",
   "source": [
    "df_books['ISBN'] = clean_isbn(df_books)\n",
    "df_ratings['ISBN'] = clean_isbn(df_ratings)"
   ],
   "id": "9213eac522492858",
   "outputs": [],
   "execution_count": 8
  },
  {
   "metadata": {
    "ExecuteTime": {
     "end_time": "2025-10-10T18:14:47.127668Z",
     "start_time": "2025-10-10T18:14:46.404058Z"
    }
   },
   "cell_type": "code",
   "source": "cleaned_ratings = delete_missing_books(df_books, df_ratings)",
   "id": "d744bb51c6dfce4f",
   "outputs": [],
   "execution_count": 5
  },
  {
   "metadata": {
    "ExecuteTime": {
     "end_time": "2025-10-10T18:18:54.114862Z",
     "start_time": "2025-10-10T18:18:54.108512Z"
    }
   },
   "cell_type": "code",
   "source": "df_ratings = cleaned_ratings",
   "id": "d26290a8287baeff",
   "outputs": [],
   "execution_count": 15
  },
  {
   "metadata": {},
   "cell_type": "markdown",
   "source": "# NaN rows in books with bad author seperation",
   "id": "9a07873a35f48d0d"
  },
  {
   "metadata": {
    "ExecuteTime": {
     "end_time": "2025-10-10T18:17:38.033540Z",
     "start_time": "2025-10-10T18:17:37.949011Z"
    }
   },
   "cell_type": "code",
   "source": [
    "temp = nan_rows(df_books)\n",
    "temp = temp[-3:]\n",
    "temp[temp.columns[3:8]] = temp[temp.columns[2:7]]"
   ],
   "id": "c17dcb1b39f70d51",
   "outputs": [],
   "execution_count": 11
  },
  {
   "metadata": {
    "ExecuteTime": {
     "end_time": "2025-10-10T18:17:39.239367Z",
     "start_time": "2025-10-10T18:17:39.163344Z"
    }
   },
   "cell_type": "code",
   "source": [
    "temp_authors = []\n",
    "temp_titles = []\n",
    "for title in temp[\"Book-Title\"]:\n",
    "    temp_authors.append((title.split(';')[-1])[:-2])\n",
    "    temp_titles.append((title.split(';')[0])[:-2])\n",
    "temp[\"Book-Title\"] = temp_titles\n",
    "temp[\"Book-Author\"] = temp_authors\n",
    "df_books.iloc[temp.index] = temp"
   ],
   "id": "d4f2141afc21429c",
   "outputs": [],
   "execution_count": 12
  },
  {
   "metadata": {
    "ExecuteTime": {
     "end_time": "2025-10-10T18:17:46.725389Z",
     "start_time": "2025-10-10T18:17:46.588962Z"
    }
   },
   "cell_type": "code",
   "source": "df_ratings[df_ratings['ISBN'].isin(nan_rows(df_books)['ISBN'])]",
   "id": "ce219991a375cb1",
   "outputs": [
    {
     "data": {
      "text/plain": [
       "        User-ID        ISBN  Book-Rating\n",
       "273117    63714  0751352497           10\n",
       "411773    98391  193169656X            9\n",
       "411782    98391  1931696993            9\n",
       "412805    98647  9627982032            8"
      ],
      "text/html": [
       "<div>\n",
       "<style scoped>\n",
       "    .dataframe tbody tr th:only-of-type {\n",
       "        vertical-align: middle;\n",
       "    }\n",
       "\n",
       "    .dataframe tbody tr th {\n",
       "        vertical-align: top;\n",
       "    }\n",
       "\n",
       "    .dataframe thead th {\n",
       "        text-align: right;\n",
       "    }\n",
       "</style>\n",
       "<table border=\"1\" class=\"dataframe\">\n",
       "  <thead>\n",
       "    <tr style=\"text-align: right;\">\n",
       "      <th></th>\n",
       "      <th>User-ID</th>\n",
       "      <th>ISBN</th>\n",
       "      <th>Book-Rating</th>\n",
       "    </tr>\n",
       "  </thead>\n",
       "  <tbody>\n",
       "    <tr>\n",
       "      <th>273117</th>\n",
       "      <td>63714</td>\n",
       "      <td>0751352497</td>\n",
       "      <td>10</td>\n",
       "    </tr>\n",
       "    <tr>\n",
       "      <th>411773</th>\n",
       "      <td>98391</td>\n",
       "      <td>193169656X</td>\n",
       "      <td>9</td>\n",
       "    </tr>\n",
       "    <tr>\n",
       "      <th>411782</th>\n",
       "      <td>98391</td>\n",
       "      <td>1931696993</td>\n",
       "      <td>9</td>\n",
       "    </tr>\n",
       "    <tr>\n",
       "      <th>412805</th>\n",
       "      <td>98647</td>\n",
       "      <td>9627982032</td>\n",
       "      <td>8</td>\n",
       "    </tr>\n",
       "  </tbody>\n",
       "</table>\n",
       "</div>"
      ]
     },
     "execution_count": 13,
     "metadata": {},
     "output_type": "execute_result"
    }
   ],
   "execution_count": 13
  },
  {
   "metadata": {},
   "cell_type": "markdown",
   "source": "# Check datatypes",
   "id": "fd0776b447872328"
  },
  {
   "metadata": {
    "ExecuteTime": {
     "end_time": "2025-10-10T18:17:52.555580Z",
     "start_time": "2025-10-10T18:17:52.480970Z"
    }
   },
   "cell_type": "code",
   "source": "df_books.astype({'Year-Of-Publication': 'int32'}).dtypes",
   "id": "a23e448fd0dd15b8",
   "outputs": [
    {
     "data": {
      "text/plain": [
       "ISBN                   object\n",
       "Book-Title             object\n",
       "Book-Author            object\n",
       "Year-Of-Publication     int32\n",
       "Publisher              object\n",
       "Image-URL-S            object\n",
       "Image-URL-M            object\n",
       "Image-URL-L            object\n",
       "dtype: object"
      ]
     },
     "execution_count": 14,
     "metadata": {},
     "output_type": "execute_result"
    }
   ],
   "execution_count": 14
  },
  {
   "metadata": {},
   "cell_type": "code",
   "outputs": [],
   "execution_count": null,
   "source": "df_books[df_books.duplicated(subset='ISBN', keep=False)]",
   "id": "a06543bc570dcd31"
  },
  {
   "metadata": {},
   "cell_type": "code",
   "outputs": [],
   "execution_count": null,
   "source": "df_books = df_books.drop_duplicates(subset='ISBN', keep='first')",
   "id": "45d095d9556c89a9"
  },
  {
   "metadata": {
    "ExecuteTime": {
     "end_time": "2025-10-10T18:19:17.341416Z",
     "start_time": "2025-10-10T18:19:14.321087Z"
    }
   },
   "cell_type": "code",
   "source": [
    "df_books.to_csv(\"Downloads/books_cleaned.csv\", index=False)\n",
    "df_ratings.to_csv(\"Downloads/ratings_cleaned.csv\", index=False)"
   ],
   "id": "c3ab6761ab2ec92d",
   "outputs": [],
   "execution_count": 16
  }
 ],
 "metadata": {
  "kernelspec": {
   "display_name": "Python 3",
   "language": "python",
   "name": "python3"
  },
  "language_info": {
   "codemirror_mode": {
    "name": "ipython",
    "version": 2
   },
   "file_extension": ".py",
   "mimetype": "text/x-python",
   "name": "python",
   "nbconvert_exporter": "python",
   "pygments_lexer": "ipython2",
   "version": "2.7.6"
  }
 },
 "nbformat": 4,
 "nbformat_minor": 5
}
